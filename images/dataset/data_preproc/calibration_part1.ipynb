{
 "cells": [
  {
   "cell_type": "code",
   "execution_count": 33,
   "metadata": {
    "collapsed": true
   },
   "outputs": [],
   "source": [
    "# -*- coding:utf-8 -*-\n",
    "import cv2\n",
    "import numpy as np\n",
    "import os\n",
    "import re\n",
    "import math"
   ]
  },
  {
   "cell_type": "code",
   "execution_count": 54,
   "metadata": {
    "collapsed": true
   },
   "outputs": [],
   "source": [
    "# 畸变参数\n",
    "dist = np.array([-0.347049837762688,\n",
    "\t\t\t\t  0.165398310868444,\n",
    "\t\t\t\t                  0,\n",
    "\t\t\t\t                  0,\n",
    "\t\t\t\t-0.0444392622226221])\n",
    "\n",
    "# 内参矩阵\n",
    "mtx = np.array([[366.8414,        0, 337.4132],\n",
    "\t\t\t\t[       0, 366.1242, 182.8138],\n",
    "\t\t\t\t[       0,        0,   1.0000]])"
   ]
  },
  {
   "cell_type": "code",
   "execution_count": 53,
   "metadata": {
    "collapsed": true,
    "scrolled": true
   },
   "outputs": [],
   "source": [
    "picDir = \"data_part1\"\n",
    "saveDir = \"data_part1_calibration/\"\n",
    "\n",
    "picPath = os.listdir(picDir)\n",
    "count = 1\n",
    "for file in picPath:\n",
    "    if re.match('.*.jpg', file):\n",
    "        im = cv2.imread(os.path.join(picDir, file))\n",
    "        dst = cv2.undistort(im, mtx, dist, None, None)\n",
    "        fileName = 'xqq' + '0' * (4 - math.floor(math.log10(count))) + '%d' % count + '.jpg'\n",
    "        count += 1\n",
    "        cv2.imwrite(os.path.join(saveDir, fileName), dst)"
   ]
  },
  {
   "cell_type": "code",
   "execution_count": null,
   "metadata": {
    "collapsed": true
   },
   "outputs": [],
   "source": []
  }
 ],
 "metadata": {
  "kernelspec": {
   "display_name": "Python 3",
   "language": "python",
   "name": "python3"
  },
  "language_info": {
   "codemirror_mode": {
    "name": "ipython",
    "version": 3
   },
   "file_extension": ".py",
   "mimetype": "text/x-python",
   "name": "python",
   "nbconvert_exporter": "python",
   "pygments_lexer": "ipython3",
   "version": "3.6.5"
  }
 },
 "nbformat": 4,
 "nbformat_minor": 2
}
