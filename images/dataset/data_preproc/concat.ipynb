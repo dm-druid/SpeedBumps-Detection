{
 "cells": [
  {
   "cell_type": "code",
   "execution_count": 10,
   "metadata": {
    "collapsed": true
   },
   "outputs": [],
   "source": [
    "import cv2\n",
    "import numpy as np\n",
    "import os\n",
    "import re\n",
    "import math"
   ]
  },
  {
   "cell_type": "code",
   "execution_count": 11,
   "metadata": {
    "collapsed": true
   },
   "outputs": [],
   "source": [
    "picDir = [\"data_part1_calibration\", \"data_part2_resized\", \"data_part3_filtered\"]\n",
    "saveDir = \"dataset_png\"\n",
    "count = 1\n",
    "for picdir in picDir:\n",
    "    picPath = os.listdir(picdir)\n",
    "    for file in picPath:\n",
    "        if re.match('.*.jpe{0,1}g', file):\n",
    "            im = cv2.imread(os.path.join(picdir, file))\n",
    "            if im is None:\n",
    "                continue\n",
    "            fileName = 'xqq' + '0' * (4 - math.floor(math.log10(count))) + '%d' % count + '.png'\n",
    "            cv2.imwrite(os.path.join(saveDir, fileName), im)\n",
    "            count += 1"
   ]
  },
  {
   "cell_type": "code",
   "execution_count": null,
   "metadata": {
    "collapsed": true
   },
   "outputs": [],
   "source": []
  }
 ],
 "metadata": {
  "kernelspec": {
   "display_name": "Python 3",
   "language": "python",
   "name": "python3"
  },
  "language_info": {
   "codemirror_mode": {
    "name": "ipython",
    "version": 3
   },
   "file_extension": ".py",
   "mimetype": "text/x-python",
   "name": "python",
   "nbconvert_exporter": "python",
   "pygments_lexer": "ipython3",
   "version": "3.6.5"
  }
 },
 "nbformat": 4,
 "nbformat_minor": 2
}
