{
 "cells": [
  {
   "cell_type": "code",
   "execution_count": 50,
   "metadata": {
    "collapsed": true
   },
   "outputs": [],
   "source": [
    "import cv2\n",
    "import numpy as np\n",
    "import os\n",
    "import re\n",
    "import math"
   ]
  },
  {
   "cell_type": "code",
   "execution_count": 51,
   "metadata": {
    "collapsed": true
   },
   "outputs": [],
   "source": [
    "imgDir = 'xqq'\n",
    "labelDir = 'xqq-labels'\n",
    "imgPath = os.listdir(imgDir)\n",
    "if '.DS_Store' in imgPath:\n",
    "    imgPath.remove('.DS_Store')\n",
    "\n",
    "imgSaveDir = 'xqq2-png'\n",
    "labelSaveDir = 'xqq2-labels'\n",
    "for imgFile in imgPath:\n",
    "    im = cv2.imread(os.path.join(imgDir, imgFile))\n",
    "    if im is None:\n",
    "        continue\n",
    "    # 水平翻转图片\n",
    "    im = cv2.flip(im, 1)\n",
    "    # 存储图片 => .png/.jpg\n",
    "#     cv2.imwrite(os.path.join(imgSaveDir, imgFile), im)\n",
    "    labelFile = imgFile.split('.')[0] + '.txt'\n",
    "    with open(os.path.join(labelDir, labelFile), 'r') as f:\n",
    "        s1 = f.read()\n",
    "        sList = s1.split('\\n')\n",
    "        for k in range(len(sList)):\n",
    "            obj = sList[k]\n",
    "            if obj is '':\n",
    "                continue\n",
    "            item = [float(i) for i in obj.split(' ')]\n",
    "            # 后面四个值分别是xywh\n",
    "            # 水平翻转只改变x, x = 1-x\n",
    "            item[1] = 1 - item[1]\n",
    "            item = [str(i) for i in item]\n",
    "            item[0] = str(int(float(item[0])))\n",
    "            sList[k] = ' '.join(item)\n",
    "        s = '\\n'.join(sList)\n",
    "        with open(os.path.join(labelSaveDir, labelFile), 'w') as fw:\n",
    "            fw.write(s)"
   ]
  },
  {
   "cell_type": "code",
   "execution_count": null,
   "metadata": {
    "collapsed": true
   },
   "outputs": [],
   "source": []
  }
 ],
 "metadata": {
  "kernelspec": {
   "display_name": "Python 3",
   "language": "python",
   "name": "python3"
  },
  "language_info": {
   "codemirror_mode": {
    "name": "ipython",
    "version": 3
   },
   "file_extension": ".py",
   "mimetype": "text/x-python",
   "name": "python",
   "nbconvert_exporter": "python",
   "pygments_lexer": "ipython3",
   "version": "3.6.5"
  }
 },
 "nbformat": 4,
 "nbformat_minor": 2
}
