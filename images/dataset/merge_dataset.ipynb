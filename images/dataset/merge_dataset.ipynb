{
 "cells": [
  {
   "cell_type": "code",
   "execution_count": 5,
   "metadata": {
    "collapsed": true
   },
   "outputs": [],
   "source": [
    "import cv2\n",
    "import numpy as np\n",
    "import os\n",
    "import re\n",
    "import math\n",
    "import shutil"
   ]
  },
  {
   "cell_type": "code",
   "execution_count": 7,
   "metadata": {
    "collapsed": true
   },
   "outputs": [],
   "source": [
    "imageDir = ['xqq', 'xqq2', 'xqq3']\n",
    "imgSaveDir = 'xqqds-0620/images/'\n",
    "labelSaveDir = 'xqqds-0620/labels/'\n",
    "\n",
    "count = 1\n",
    "for imgdir in imageDir:\n",
    "    labeldir = imgdir + '-labels'\n",
    "    imagePath = os.listdir(imgdir)\n",
    "    if '.DS_Store' in imagePath:\n",
    "        imagePath.remove('.DS_Store')\n",
    "    for file in imagePath:\n",
    "        dsID = 'xqq0620' + '0' * (4 - math.floor(math.log10(count))) + '%d' % count\n",
    "        # 拷贝图片\n",
    "        shutil.copyfile(os.path.join(imgdir, file), os.path.join(imgSaveDir, dsID + '.jpg'))\n",
    "        # 拷贝标签\n",
    "        shutil.copyfile(os.path.join(labeldir, file.split('.')[0] + '.txt'), os.path.join(labelSaveDir, dsID + '.txt'))\n",
    "        count += 1"
   ]
  },
  {
   "cell_type": "code",
   "execution_count": null,
   "metadata": {
    "collapsed": true
   },
   "outputs": [],
   "source": []
  }
 ],
 "metadata": {
  "kernelspec": {
   "display_name": "Python 3",
   "language": "python",
   "name": "python3"
  },
  "language_info": {
   "codemirror_mode": {
    "name": "ipython",
    "version": 3
   },
   "file_extension": ".py",
   "mimetype": "text/x-python",
   "name": "python",
   "nbconvert_exporter": "python",
   "pygments_lexer": "ipython3",
   "version": "3.6.5"
  }
 },
 "nbformat": 4,
 "nbformat_minor": 2
}
