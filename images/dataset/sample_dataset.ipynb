{
 "cells": [
  {
   "cell_type": "code",
   "execution_count": 1,
   "metadata": {
    "collapsed": true
   },
   "outputs": [],
   "source": [
    "import cv2\n",
    "import numpy as np\n",
    "import os\n",
    "import re\n",
    "import math\n",
    "import shutil"
   ]
  },
  {
   "cell_type": "code",
   "execution_count": 10,
   "metadata": {},
   "outputs": [],
   "source": [
    "imageDir = ['xqq']\n",
    "imgSaveDir = 'xqqds-0620-test/images/'\n",
    "labelSaveDir = 'xqqds-0620-test/labels/'\n",
    "\n",
    "count = 1004\n",
    "for imgdir in imageDir:    \n",
    "    for i in range(3):\n",
    "        labeldir = imgdir + '-labels'\n",
    "        imagePath = os.listdir(imgdir)\n",
    "        if '.DS_Store' in imagePath:\n",
    "            imagePath.remove('.DS_Store')\n",
    "        for file in imagePath:\n",
    "            dsID = 'xqq0620test' + '0' * (4 - math.floor(math.log10(count))) + '%d' % count\n",
    "            # 拷贝图片\n",
    "            shutil.copyfile(os.path.join(imgdir, file), os.path.join(imgSaveDir, dsID + '.jpg'))\n",
    "            # 拷贝标签\n",
    "            shutil.copyfile(os.path.join(labeldir, file.split('.')[0] + '.txt'), os.path.join(labelSaveDir, dsID + '.txt'))\n",
    "            count += 1"
   ]
  },
  {
   "cell_type": "code",
   "execution_count": 9,
   "metadata": {
    "collapsed": true
   },
   "outputs": [],
   "source": [
    "imageDir = ['voc2007']\n",
    "imgSaveDir = 'xqqds-0620-test/images/'\n",
    "labelSaveDir = 'xqqds-0620-test/labels/'\n",
    "\n",
    "count = 1\n",
    "flag = 0\n",
    "for imgdir in imageDir:\n",
    "    labeldir = imgdir + '-labels'\n",
    "    imagePath = os.listdir(imgdir)\n",
    "    if '.DS_Store' in imagePath:\n",
    "        imagePath.remove('.DS_Store')\n",
    "    for file in imagePath:\n",
    "        if flag is 0:\n",
    "            flag = 1\n",
    "            continue\n",
    "        else:\n",
    "            flag = 0\n",
    "        dsID = 'xqq0620test' + '0' * (4 - math.floor(math.log10(count))) + '%d' % count\n",
    "        # 拷贝图片\n",
    "        shutil.copyfile(os.path.join(imgdir, file), os.path.join(imgSaveDir, dsID + '.jpg'))\n",
    "        # 拷贝标签\n",
    "        shutil.copyfile(os.path.join(labeldir, file.split('.')[0] + '.txt'), os.path.join(labelSaveDir, dsID + '.txt'))\n",
    "        count += 1"
   ]
  },
  {
   "cell_type": "code",
   "execution_count": null,
   "metadata": {
    "collapsed": true
   },
   "outputs": [],
   "source": []
  }
 ],
 "metadata": {
  "kernelspec": {
   "display_name": "Python 3",
   "language": "python",
   "name": "python3"
  },
  "language_info": {
   "codemirror_mode": {
    "name": "ipython",
    "version": 3
   },
   "file_extension": ".py",
   "mimetype": "text/x-python",
   "name": "python",
   "nbconvert_exporter": "python",
   "pygments_lexer": "ipython3",
   "version": "3.6.5"
  }
 },
 "nbformat": 4,
 "nbformat_minor": 2
}
