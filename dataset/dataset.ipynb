{
 "cells": [
  {
   "cell_type": "code",
   "execution_count": 15,
   "metadata": {
    "collapsed": true
   },
   "outputs": [],
   "source": [
    "import cv2\n",
    "import numpy as np\n",
    "import os\n",
    "import re\n",
    "import math"
   ]
  },
  {
   "cell_type": "code",
   "execution_count": 17,
   "metadata": {},
   "outputs": [],
   "source": [
    "# remove empty labels\n",
    "labelDir = 'voc2007-labels/'\n",
    "labelPath = os.listdir(labelDir)\n",
    "for file in labelPath:\n",
    "    flag = 0;\n",
    "    with open(os.path.join(labelDir,file), 'r') as f:\n",
    "        s = f.read()\n",
    "        if s is \"\":\n",
    "            flag = 1\n",
    "    if flag is 1:\n",
    "        os.remove(os.path.join(labelDir,file))"
   ]
  },
  {
   "cell_type": "code",
   "execution_count": 26,
   "metadata": {
    "collapsed": true
   },
   "outputs": [],
   "source": [
    "# remove images without label\n",
    "imageDir = 'voc2012'\n",
    "imagePath = os.listdir(imageDir)\n",
    "labelDir = imageDir + '-labels'\n",
    "labelPath = os.listdir(labelDir)\n",
    "\n",
    "for file in imagePath:\n",
    "    flag = 0\n",
    "    labelFileName = file.split('.')[0] + '.txt'\n",
    "    if labelFileName in labelPath:\n",
    "        flag = 1;\n",
    "    if flag is 0:\n",
    "        os.remove(os.path.join(imageDir,file))"
   ]
  },
  {
   "cell_type": "code",
   "execution_count": null,
   "metadata": {
    "collapsed": true
   },
   "outputs": [],
   "source": []
  }
 ],
 "metadata": {
  "kernelspec": {
   "display_name": "Python 3",
   "language": "python",
   "name": "python3"
  },
  "language_info": {
   "codemirror_mode": {
    "name": "ipython",
    "version": 3
   },
   "file_extension": ".py",
   "mimetype": "text/x-python",
   "name": "python",
   "nbconvert_exporter": "python",
   "pygments_lexer": "ipython3",
   "version": "3.6.5"
  }
 },
 "nbformat": 4,
 "nbformat_minor": 2
}
