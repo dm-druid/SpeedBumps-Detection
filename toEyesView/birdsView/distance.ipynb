{
 "cells": [
  {
   "cell_type": "code",
   "execution_count": 125,
   "metadata": {
    "collapsed": true
   },
   "outputs": [],
   "source": [
    "import cv2\n",
    "import numpy as np\n",
    "import math"
   ]
  },
  {
   "cell_type": "code",
   "execution_count": 169,
   "metadata": {
    "collapsed": true
   },
   "outputs": [],
   "source": [
    "im = cv2.imread('im-final.jpg')\n",
    "mat = np.array([[-0.5115,   -1.4774,  428.8531],\n",
    "                [-0.0880,   -3.6296,  847.1490],\n",
    "                [-0.0001,   -0.0054,    1.0000]\n",
    "               ])\n",
    "def pointInBirdsEyeView(p):\n",
    "    p2 = mat.dot(p)\n",
    "    p2 /= p2[2]\n",
    "    return p2"
   ]
  },
  {
   "cell_type": "code",
   "execution_count": 102,
   "metadata": {},
   "outputs": [
    {
     "data": {
      "text/plain": [
       "True"
      ]
     },
     "execution_count": 102,
     "metadata": {},
     "output_type": "execute_result"
    }
   ],
   "source": [
    "im2 = cv2.warpPerspective(im,mat,(1000,1000))\n",
    "# point = mat.dot(newPoint)\n",
    "cv2.imwrite('im-res.png',im2)"
   ]
  },
  {
   "cell_type": "code",
   "execution_count": 176,
   "metadata": {
    "collapsed": true
   },
   "outputs": [],
   "source": [
    "# 左下角点\n",
    "pLeft = pointInBirdsEyeView([0,426,1])\n",
    "# 右下角点\n",
    "pRight = pointInBirdsEyeView([640,426,1])\n",
    "# 图像上一点 p(x,y,1) x<w, h<h\n",
    "# 鸟瞰视图坐标 => p' = mat.dot(p)\n",
    "# p' /= p'[2]\n",
    "# p' => 坐标x',y'\n",
    "# 计算 p' 到 直线 pLeft-pRight 的距离d'(m) {k pix => k cm => m} 1 pix = 1 cm\n",
    "# 标定的底部到相机距离为d(m)\n",
    "# p到相机的水平距离 D' = d + d'\n",
    "d = 126\n",
    "pix2cm = 1\n",
    "\n",
    "# y = kx + b\n",
    "k = (pLeft[1] - pRight[1])/(pLeft[0] - pRight[0])\n",
    "b = pLeft[1] - k*pLeft[0]\n",
    "# 满足条件的点都应该在线的同一侧\n",
    "def distance2BottomLine(p):\n",
    "    # |kx+b-y| / sqrt(k^2 + 1)\n",
    "    # if the distance < 0, input point is invalid\n",
    "    # return unit: pix\n",
    "    return (k*p[0] + b - p[1]) / math.sqrt(k**2 + 1)\n",
    "\n",
    "\n",
    "def distanceOf2Points(p1,p2):\n",
    "    return math.sqrt((p1[0]-p2[0])**2 + (p1[1]-p2[1])**2)\n",
    "\n",
    "# cm\n",
    "def distance2Camera(p):\n",
    "    p = [p[0],p[1],1]\n",
    "    p = pointInBirdsEyeView(p)\n",
    "    ds = distance2BottomLine(p)\n",
    "    if ds < 0:\n",
    "        return -1\n",
    "    else:\n",
    "        return ds * pix2cm + d"
   ]
  },
  {
   "cell_type": "code",
   "execution_count": 175,
   "metadata": {},
   "outputs": [
    {
     "data": {
      "text/plain": [
       "180.317226716388"
      ]
     },
     "execution_count": 175,
     "metadata": {},
     "output_type": "execute_result"
    }
   ],
   "source": [
    "distance2Camera([264,352])"
   ]
  },
  {
   "cell_type": "code",
   "execution_count": null,
   "metadata": {
    "collapsed": true
   },
   "outputs": [],
   "source": []
  }
 ],
 "metadata": {
  "kernelspec": {
   "display_name": "Python 3",
   "language": "python",
   "name": "python3"
  },
  "language_info": {
   "codemirror_mode": {
    "name": "ipython",
    "version": 3
   },
   "file_extension": ".py",
   "mimetype": "text/x-python",
   "name": "python",
   "nbconvert_exporter": "python",
   "pygments_lexer": "ipython3",
   "version": "3.6.5"
  }
 },
 "nbformat": 4,
 "nbformat_minor": 2
}
